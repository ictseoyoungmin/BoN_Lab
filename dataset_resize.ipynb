{
 "cells": [
  {
   "cell_type": "markdown",
   "metadata": {},
   "source": [
    "### 56GB 데이터세트 사이즈 줄이기\n",
    "1. 데이터세트 폴더에 있는 모든 디렉토리 리스트 조회\n",
    "2. 이미지가 있는 폴더만 이미지 사이즈 줄여서 따로 저장 "
   ]
  },
  {
   "cell_type": "code",
   "execution_count": 53,
   "metadata": {},
   "outputs": [],
   "source": [
    "from torch.utils.data import Dataset\n",
    "from PIL import Image\n",
    "import os\n",
    "import numpy as np"
   ]
  },
  {
   "cell_type": "code",
   "execution_count": 22,
   "metadata": {},
   "outputs": [
    {
     "data": {
      "text/plain": [
       "['cats', 'dogs', 'temp']"
      ]
     },
     "execution_count": 22,
     "metadata": {},
     "output_type": "execute_result"
    }
   ],
   "source": [
    "# 데이터세트 폴더\n",
    "SOURCE_PATH = './data/train'\n",
    "SOURCE_PATH_LIST = os.listdir(SOURCE_PATH)\n",
    "\n",
    "# 따로 저장할 폴더\n",
    "TARGET_PATH = './trans/'\n",
    "\n",
    "SOURCE_PATH_LIST"
   ]
  },
  {
   "cell_type": "code",
   "execution_count": 35,
   "metadata": {},
   "outputs": [
    {
     "data": {
      "text/plain": [
       "True"
      ]
     },
     "execution_count": 35,
     "metadata": {},
     "output_type": "execute_result"
    }
   ],
   "source": [
    "'cat.0.jpg'.endswith(('.jpg', '.tiff','.tif'))"
   ]
  },
  {
   "cell_type": "code",
   "execution_count": 68,
   "metadata": {},
   "outputs": [
    {
     "data": {
      "text/plain": [
       "'./data/train\\\\cats\\\\cat.jpg'"
      ]
     },
     "execution_count": 68,
     "metadata": {},
     "output_type": "execute_result"
    }
   ],
   "source": [
    "os.path.join(SOURCE_PATH,SOURCE_PATH_LIST[0],'cat.jpg')"
   ]
  },
  {
   "cell_type": "code",
   "execution_count": 58,
   "metadata": {},
   "outputs": [
    {
     "data": {
      "text/plain": [
       "(600,)"
      ]
     },
     "execution_count": 58,
     "metadata": {},
     "output_type": "execute_result"
    }
   ],
   "source": [
    "image_path = []\n",
    "file = []\n",
    "dic = dict()\n",
    "for source in SOURCE_PATH_LIST:\n",
    "    dir = os.path.join(SOURCE_PATH,source)\n",
    "    files = os.listdir(dir)\n",
    "    # 파일이 있는 이미지 디렉토리 이름만 추출\n",
    "    if 0 < len(files):\n",
    "        if files[0].endswith(('.jpg','.tif','.tiff')):\n",
    "            image_path.append(source)\n",
    "            file.append(files)\n",
    "            dic.update({source:files})\n",
    "image_path  \n",
    "a = np.reshape(list(dic.values()),(-1,))\n",
    "a.shape"
   ]
  },
  {
   "cell_type": "code",
   "execution_count": 67,
   "metadata": {},
   "outputs": [
    {
     "name": "stdout",
     "output_type": "stream",
     "text": [
      "cats\n",
      "dogs\n"
     ]
    }
   ],
   "source": [
    "for key in dic.keys():\n",
    "    print(key)"
   ]
  },
  {
   "cell_type": "code",
   "execution_count": 89,
   "metadata": {},
   "outputs": [],
   "source": [
    "class SizeTransDataset(Dataset):\n",
    "    def __init__(self, source_path, shape=(256,256), max_files=None) :\n",
    "        self.source_path = source_path\n",
    "        self.source_path_list = os.listdir(source_path)\n",
    "        self.shape = shape\n",
    "        self.max_files = max_files\n",
    "\n",
    "        self.dic = dict()\n",
    "        \n",
    "        for source in self.source_path_list:\n",
    "            files = os.listdir(os.path.join(self.source_path,source))\n",
    "            if 0 < len(files):\n",
    "                if files[0].endswith(('.jpg','.tif','.tiff')):\n",
    "                    self.dic.update({source:files})\n",
    "\n",
    "        self.total_files = np.reshape(list(self.dic.values()),(-1,))\n",
    "\n",
    "    def __getitem__(self, index):\n",
    "        return self.total_files[index]\n",
    "\n",
    "    def __len__(self):\n",
    "        return len(self.total_files)\n",
    "\n",
    "    def trans(self,target_path):\n",
    "        for key in self.dic.keys():\n",
    "            target_dir = os.path.join(target_path,key)\n",
    "            os.makedirs(target_dir,exist_ok=True)\n",
    "            c = 1\n",
    "            for f in self.dic[key]:\n",
    "                file_path = os.path.join(self.source_path,key,f)\n",
    "                with Image.open(file_path) as file:\n",
    "                    image = file.resize(self.shape)\n",
    "                    image.save(os.path.join(target_dir,f))\n",
    "                if self.max_files is not None:\n",
    "                    if self.max_files <= c:\n",
    "                        break\n",
    "                c+=1\n",
    "            print(f\"{key} : {c} files resized.\")\n"
   ]
  },
  {
   "cell_type": "code",
   "execution_count": 90,
   "metadata": {},
   "outputs": [
    {
     "name": "stdout",
     "output_type": "stream",
     "text": [
      "cat.0.jpg\n",
      "cat.1.jpg\n",
      "cat.10.jpg\n",
      "cat.100.jpg\n",
      "cat.101.jpg\n",
      "cats : 5 files resized.\n",
      "dog.0.jpg\n",
      "dog.1.jpg\n",
      "dog.10.jpg\n",
      "dog.100.jpg\n",
      "dog.101.jpg\n",
      "dogs : 5 files resized.\n"
     ]
    }
   ],
   "source": [
    "testset = SizeTransDataset(SOURCE_PATH,max_files=5)\n",
    "testset.trans(TARGET_PATH)"
   ]
  },
  {
   "cell_type": "code",
   "execution_count": 73,
   "metadata": {},
   "outputs": [
    {
     "data": {
      "text/plain": [
       "{}"
      ]
     },
     "execution_count": 73,
     "metadata": {},
     "output_type": "execute_result"
    }
   ],
   "source": [
    "testset.dic"
   ]
  }
 ],
 "metadata": {
  "kernelspec": {
   "display_name": "tf",
   "language": "python",
   "name": "python3"
  },
  "language_info": {
   "codemirror_mode": {
    "name": "ipython",
    "version": 3
   },
   "file_extension": ".py",
   "mimetype": "text/x-python",
   "name": "python",
   "nbconvert_exporter": "python",
   "pygments_lexer": "ipython3",
   "version": "3.9.13 (main, Oct 13 2022, 21:23:06) [MSC v.1916 64 bit (AMD64)]"
  },
  "orig_nbformat": 4,
  "vscode": {
   "interpreter": {
    "hash": "524cfc446139cd22f692462ff1fad0e1736a1ce4f7533811c81a6a8c951321d3"
   }
  }
 },
 "nbformat": 4,
 "nbformat_minor": 2
}
