{
 "cells": [
  {
   "cell_type": "code",
   "execution_count": 125,
   "metadata": {},
   "outputs": [],
   "source": [
    "import os\n",
    "import torch\n",
    "import numpy as np\n",
    "from pathlib import Path\n",
    "\n",
    "from torchvision.datasets import ImageFolder\n",
    "from torch.utils.data import DataLoader,Dataset\n",
    "from PIL import Image"
   ]
  },
  {
   "cell_type": "code",
   "execution_count": 3,
   "metadata": {},
   "outputs": [],
   "source": [
    "#### Config Values ###\n",
    "\n",
    "IMG_SHAPE = (224,224,3)\n",
    "BATCH_SIZE = 32\n",
    "EPOCHS = 40\n",
    "SHUFFLE = True\n",
    "SEED = 42\n",
    "CLASSES =['cats'] # for OC-CNN\n",
    "CLASSES_T =['unknown','cats','dogs'] # for BoN-CNN\n",
    "CLASSES_B =['wild','cats','dogs'] # for Bon test\n",
    "TRAIN_PATH = r\"C:\\Users\\asiclab06\\Datasets\\afhq\\train\"\n",
    "TEST_PATH = r\"C:\\Users\\asiclab06\\Datasets\\afhq\\val\""
   ]
  },
  {
   "cell_type": "code",
   "execution_count": 141,
   "metadata": {},
   "outputs": [],
   "source": [
    "## Define Dataset\n",
    "from torchvision.transforms import transforms\n",
    "\n",
    "class ImageDataset(Dataset):\n",
    "    def __init__(self,root,classes,target_size:tuple,shuffle=False,**kwargs):\n",
    "        super().__init__()\n",
    "        self.root=  root\n",
    "        self.classes = classes\n",
    "        self.target_size = target_size\n",
    "        self.shuffle = shuffle        \n",
    "\n",
    "        self._load_data()\n",
    "        self._set_index_array()     \n",
    "        self._set_shuffle()\n",
    "    \n",
    "        # kwargs\n",
    "        self.samples = kwargs.pop('samples',None)\n",
    "        if self.samples is not None:\n",
    "            self._sampling_data()\n",
    "\n",
    "    def _sampling_data(self):\n",
    "        s = np.random.choice(self.__len__()-self.samples,1).item() if self.shuffle else 0\n",
    "        e = self.samples\n",
    "        self.data = self.data[s:e+s]\n",
    "        self.label = self.label[s:e+s]\n",
    "\n",
    "    def _load_data(self):\n",
    "        self.data = []\n",
    "        self.label = []\n",
    "\n",
    "        for i,cla in enumerate(self.classes):\n",
    "            sub_dir = os.path.join(self.root,cla)\n",
    "            sub_files = os.listdir(sub_dir)\n",
    "            self.data.extend([os.path.join(sub_dir,sub_file) for sub_file in sub_files])\n",
    "            l=len(sub_files)\n",
    "            self.label.extend([i for _ in range(l)])\n",
    "            print(f'Found {l} images in \"{cla}\" directory.')\n",
    "\n",
    "        self.data = np.array(self.data) \n",
    "        self.label = np.array(self.label)\n",
    "        \n",
    "    def _set_index_array(self):\n",
    "        self.index_array = np.arange(self.__len__())\n",
    "        if self.shuffle:\n",
    "            self.index_array = np.random.permutation(self.__len__())\n",
    "\n",
    "    def _set_shuffle(self):\n",
    "        self.data = self.data[self.index_array]\n",
    "        self.label = self.label[self.index_array]\n",
    "\n",
    "    def __getitem__(self, index):\n",
    "        \"\"\"\n",
    "            Return : PIL image, sparse label\n",
    "        \"\"\"\n",
    "        x = Image.open(self.data[index]).convert('RGB')\n",
    "        x = x.resize(self.target_size,Image.Resampling.BILINEAR)\n",
    "        \n",
    "        return x, self.label[index]\n",
    "\n",
    "    def __len__(self):\n",
    "        return len(self.data)\n",
    "\n",
    "class FaceClfDataset(ImageDataset):\n",
    "    def __init__(self, root, classes, target_size: tuple, shuffle=False, transform=None, class_mode=None, **kwargs):\n",
    "        super().__init__(root, classes, target_size, shuffle, **kwargs)\n",
    "        # transform\n",
    "        if transform is not None:\n",
    "            self.transform = transform\n",
    "        else:\n",
    "            self.transform = transforms.Compose([\n",
    "                transforms.ToTensor(),\n",
    "                transforms.Normalize(mean=[0.485, 0.456, 0.406],std=[0.229, 0.224, 0.225])\n",
    "            ])\n",
    "\n",
    "        self.allow_class_modes =  [\"categorical\",\"sparse\",None]\n",
    "\n",
    "        if class_mode is not None:\n",
    "            self.class_mode = class_mode\n",
    "        else:\n",
    "            self.class_mode = self.allow_class_modes[0]\n",
    "\n",
    "    def _class_mode(self,y):\n",
    "        if self.class_mode == self.allow_class_modes[0]:\n",
    "            return self.to_categorical_class(y)\n",
    "        elif self.class_mode == self.allow_class_modes[1]:\n",
    "            return y\n",
    "\n",
    "    def to_categorical_class(self,y):\n",
    "        temp = np.zeros()\n",
    "        # todo\n",
    "        \n",
    "    def __getitem__(self, index):\n",
    "        x,y = super().__getitem__()\n",
    "\n",
    "\n",
    "        return \n",
    "\n",
    "    def __len__(self):\n",
    "        return super().__len__()    "
   ]
  },
  {
   "cell_type": "code",
   "execution_count": 101,
   "metadata": {},
   "outputs": [
    {
     "data": {
      "text/plain": [
       "'0.1232'"
      ]
     },
     "execution_count": 101,
     "metadata": {},
     "output_type": "execute_result"
    }
   ],
   "source": [
    "a = np.array([1,2,3,4,5,6,7,8,9])\n",
    "b = np.array([5,6,8,7,9,4,3,2,1]) -1\n",
    "\n",
    "\n",
    "# c = np.random.uniform(0,len(a),len(a))\n",
    "# c\n",
    "a[8]\n",
    "\n",
    "\n",
    "\"{:.4f}\".format(0.12323231312)"
   ]
  },
  {
   "cell_type": "code",
   "execution_count": 102,
   "metadata": {},
   "outputs": [
    {
     "data": {
      "text/plain": [
       "array([0])"
      ]
     },
     "execution_count": 102,
     "metadata": {},
     "output_type": "execute_result"
    }
   ],
   "source": [
    "np.random.choice(1,1)"
   ]
  },
  {
   "cell_type": "code",
   "execution_count": 138,
   "metadata": {},
   "outputs": [
    {
     "name": "stdout",
     "output_type": "stream",
     "text": [
      "Found 300 images in \"cats\" directory.\n",
      "Found 300 images in \"dogs\" directory.\n"
     ]
    },
    {
     "data": {
      "text/plain": [
       "600"
      ]
     },
     "execution_count": 138,
     "metadata": {},
     "output_type": "execute_result"
    }
   ],
   "source": [
    "\n",
    "test = ImageDataset(TRAIN_PATH,['cats','dogs'],(224,224),shuffle=False,samples=600)\n",
    "len(test.label)"
   ]
  },
  {
   "cell_type": "code",
   "execution_count": 139,
   "metadata": {},
   "outputs": [],
   "source": [
    "loader_test = DataLoader(test,1,False)"
   ]
  },
  {
   "cell_type": "code",
   "execution_count": 140,
   "metadata": {},
   "outputs": [
    {
     "data": {
      "text/plain": [
       "[tensor([[[[203, 164,  87],\n",
       "           [205, 166,  89],\n",
       "           [209, 170,  93],\n",
       "           ...,\n",
       "           [245, 204, 120],\n",
       "           [241, 202, 122],\n",
       "           [239, 200, 121]],\n",
       " \n",
       "          [[203, 164,  87],\n",
       "           [205, 166,  89],\n",
       "           [209, 170,  93],\n",
       "           ...,\n",
       "           [245, 204, 121],\n",
       "           [242, 203, 122],\n",
       "           [240, 201, 122]],\n",
       " \n",
       "          [[203, 164,  87],\n",
       "           [205, 166,  89],\n",
       "           [209, 170,  93],\n",
       "           ...,\n",
       "           [245, 204, 122],\n",
       "           [243, 204, 124],\n",
       "           [241, 202, 123]],\n",
       " \n",
       "          ...,\n",
       " \n",
       "          [[154, 123,  56],\n",
       "           [155, 124,  57],\n",
       "           [156, 125,  58],\n",
       "           ...,\n",
       "           [  3,   3,   1],\n",
       "           [  3,   3,   1],\n",
       "           [  3,   3,   1]],\n",
       " \n",
       "          [[153, 122,  55],\n",
       "           [153, 122,  55],\n",
       "           [154, 123,  56],\n",
       "           ...,\n",
       "           [  2,   2,   0],\n",
       "           [  2,   2,   0],\n",
       "           [  2,   2,   0]],\n",
       " \n",
       "          [[151, 120,  53],\n",
       "           [152, 121,  54],\n",
       "           [153, 122,  55],\n",
       "           ...,\n",
       "           [  1,   1,   0],\n",
       "           [  1,   1,   0],\n",
       "           [  1,   1,   0]]]], dtype=torch.uint8),\n",
       " tensor([0], dtype=torch.int32)]"
      ]
     },
     "execution_count": 140,
     "metadata": {},
     "output_type": "execute_result"
    }
   ],
   "source": [
    "iter(loader_test).__next__()"
   ]
  },
  {
   "cell_type": "code",
   "execution_count": null,
   "metadata": {},
   "outputs": [],
   "source": []
  }
 ],
 "metadata": {
  "kernelspec": {
   "display_name": "ml",
   "language": "python",
   "name": "python3"
  },
  "language_info": {
   "codemirror_mode": {
    "name": "ipython",
    "version": 3
   },
   "file_extension": ".py",
   "mimetype": "text/x-python",
   "name": "python",
   "nbconvert_exporter": "python",
   "pygments_lexer": "ipython3",
   "version": "3.9.13"
  },
  "orig_nbformat": 4,
  "vscode": {
   "interpreter": {
    "hash": "7c12c419fb877effd9e13c85f1b267b5ef22e851a6af2e6405c99ea71c0dd76c"
   }
  }
 },
 "nbformat": 4,
 "nbformat_minor": 2
}
